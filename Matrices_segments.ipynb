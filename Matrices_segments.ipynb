{
 "cells": [
  {
   "cell_type": "code",
   "execution_count": 6,
   "metadata": {},
   "outputs": [],
   "source": [
    "import numpy as np\n",
    "import matplotlib.pyplot as plt\n",
    "%matplotlib inline\n",
    "import PIL.Image\n",
    "import networkx as nx\n",
    "import pandas as pd\n",
    "import string\n",
    "\n",
    "from functions.genome_topology import open_pdb\n",
    "from functions.genome_topology import select_chrom\n",
    "from functions.genome_topology import geom_distance\n",
    "from functions.genome_topology import fractal_dimension\n",
    "from functions.genome_topology import get_matrix\n",
    "from functions.genome_topology import normalize_psc"
   ]
  },
  {
   "cell_type": "code",
   "execution_count": 4,
   "metadata": {},
   "outputs": [],
   "source": [
    "def SplitChromosomesIntoSegments (coordinates, n_segments):\n",
    "    length_coords= len(coordinates)\n",
    "    length_segments = length_coords//n_segments\n",
    "    rest=np.mod(length_coords,n_segments)\n",
    "    segments = []\n",
    "\n",
    "    for i in range(0, length_coords - rest, length_segments):\n",
    "        segments.append(coordinates[i:i + length_segments])\n",
    "\n",
    "    return segments"
   ]
  },
  {
   "cell_type": "markdown",
   "metadata": {},
   "source": [
    "# GENERATE TOPOLOGY MATRICES FROM CHROMOSOME SEGMENTS"
   ]
  },
  {
   "cell_type": "markdown",
   "metadata": {},
   "source": [
    "In this notebook we section chromosome sequences in a given number of segments. We produce topology matrices from these segments, which can be then used for local analysis (See 'local analysis' folder)"
   ]
  },
  {
   "cell_type": "markdown",
   "metadata": {},
   "source": [
    "Choose cell and paramters: number of segments, cutoff radius and number of neighbors to exclude from the analysis"
   ]
  },
  {
   "cell_type": "code",
   "execution_count": 8,
   "metadata": {},
   "outputs": [
    {
     "name": "stdout",
     "output_type": "stream",
     "text": [
      "analyzing cell 8\n"
     ]
    }
   ],
   "source": [
    "path = 'data/pdbs/cell8'\n",
    "\n",
    "n_segments=8\n",
    "r_cutoff=1.0\n",
    "neighbours=1\n",
    "n_all_chr=20  \n",
    "\n",
    "letters=list(string.ascii_lowercase)\n",
    "chr_vec=['chr {}'.format(letter) for letter in letters[:n_all_chr]]\n",
    "\n",
    "cell=path[-5: len(path)]\n",
    "print('analyzing cell {}'.format(cell[-1:]))"
   ]
  },
  {
   "cell_type": "markdown",
   "metadata": {},
   "source": [
    "Create segments, calculate topology, store topology matrix in tif file"
   ]
  },
  {
   "cell_type": "code",
   "execution_count": 13,
   "metadata": {},
   "outputs": [
    {
     "name": "stdout",
     "output_type": "stream",
     "text": [
      "step: 1/20\n",
      "step: 2/20\n",
      "step: 3/20\n",
      "step: 4/20\n",
      "step: 5/20\n",
      "step: 6/20\n",
      "step: 7/20\n",
      "step: 8/20\n",
      "step: 9/20\n",
      "step: 10/20\n",
      "step: 11/20\n",
      "step: 12/20\n",
      "step: 13/20\n",
      "step: 14/20\n",
      "step: 15/20\n",
      "step: 16/20\n",
      "step: 17/20\n",
      "step: 18/20\n",
      "step: 19/20\n",
      "step: 20/20\n"
     ]
    }
   ],
   "source": [
    "for t in range(n_chrom):\n",
    "    path_results= 'local analysis/matrices/{}/matrix_{}'.format(cell,chr_vec[t])\n",
    "    n, coord= select_chrom(t, path)\n",
    "    \n",
    "    segments = SplitChromosomesIntoSegments(coord, n_segments)\n",
    "    \n",
    "    for j in range(n_segments):\n",
    "        dist, n_contact, index=geom_distance(segments[j], r_cutoff, neighbours)\n",
    "        mat, stats = get_matrix(index,chr_vec[t])\n",
    "        if mat.shape != (0,0):\n",
    "            PIL.Image.fromarray(mat.astype(float)).save(\"{}_{}.tif\".format(path_results,j))\n",
    "    print('step: {}/{}'.format(t+1, n_chrom))\n"
   ]
  },
  {
   "cell_type": "code",
   "execution_count": null,
   "metadata": {},
   "outputs": [],
   "source": []
  }
 ],
 "metadata": {
  "kernelspec": {
   "display_name": "Python 3 (ipykernel)",
   "language": "python",
   "name": "python3"
  },
  "language_info": {
   "codemirror_mode": {
    "name": "ipython",
    "version": 3
   },
   "file_extension": ".py",
   "mimetype": "text/x-python",
   "name": "python",
   "nbconvert_exporter": "python",
   "pygments_lexer": "ipython3",
   "version": "3.9.12"
  }
 },
 "nbformat": 4,
 "nbformat_minor": 4
}
