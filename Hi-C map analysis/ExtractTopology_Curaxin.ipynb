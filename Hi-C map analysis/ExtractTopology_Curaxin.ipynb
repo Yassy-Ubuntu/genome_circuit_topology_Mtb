{
 "cells": [
  {
   "cell_type": "code",
   "execution_count": 1,
   "id": "e18cbe4d",
   "metadata": {},
   "outputs": [],
   "source": [
    "import numpy as np\n",
    "import os\n",
    "import random\n",
    "\n",
    "import pandas as pd\n",
    "pd.options.mode.chained_assignment = None  # default='warn'\n",
    "import networkx as nx\n",
    "import matplotlib.pyplot as plt\n",
    "%matplotlib inline\n",
    "import PIL.Image\n",
    "from read_HiC import name_chromosomes\n",
    "import seaborn as sns\n",
    "\n",
    "import sys\n",
    "path=r'C:\\Users\\31649\\Documents\\genome analysis\\genome_topology\\functions'\n",
    "\n",
    "sys.path.append(path)\n",
    "\n",
    "from plotting_tools import set_layout\n",
    "from genome_topology import normalize_psc\n",
    "from genome_topology import get_matrix\n",
    "from genome_topology import fractal_dimension\n",
    "from genome_topology import make_graph\n",
    "from plotting_tools import save_figures\n",
    "from matrix_analysis import PlotMatrix_SelectFraction\n",
    "from matrix_analysis import Select_entangled_fraction\n",
    "from statistical_analysis import comparison_distributions\n",
    "\n",
    "from matrix_analysis import write_topology_matrix"
   ]
  },
  {
   "cell_type": "markdown",
   "id": "5ca7e9be-5148-4dec-8880-a11044da4f45",
   "metadata": {},
   "source": [
    "## CIRCUIT TOPOLOGY ANALISIS FROM HIC MAPS\n",
    "Here 4 bulk Hi-C maps are analyzed, two from cells treated with the drug Curaxin, and two controls. \n",
    " - Pick the resolution of the HiC map you want to analyze (in Kb). The various resolution maps were generated with cooler 'zoomify' command.\n",
    " - Pick the quantile threshold to select only the most frequent contacts. Picking a threshold that is too low (depending on the resolution) would cause the data to exceed the memory allocated for arrays."
   ]
  },
  {
   "cell_type": "code",
   "execution_count": 2,
   "id": "54d4d835-1d9d-4cc8-8ff5-dca2301ac816",
   "metadata": {},
   "outputs": [],
   "source": [
    "set_layout(18, 18, 18)"
   ]
  },
  {
   "cell_type": "markdown",
   "id": "85d488e2",
   "metadata": {},
   "source": [
    "## Load data\n",
    "The data at this point is not combined into one dataframe because handling such a huge dataframe might cause long running time. We only combine the data together after filtering"
   ]
  },
  {
   "cell_type": "code",
   "execution_count": 3,
   "id": "49ff859c-0111-4bb8-aa86-feadfd9e286e",
   "metadata": {},
   "outputs": [
    {
     "name": "stdout",
     "output_type": "stream",
     "text": [
      "['1' '2' '3' '4' '5' '6' '7' '8' '9' '10' '11' '12' '13' '14' '15' '16'\n",
      " '17' '18' '19' '20' '21' '22' 'X']\n"
     ]
    }
   ],
   "source": [
    "resolution = '160'\n",
    "path = 'data/zoomify processed'\n",
    "samples = ['Control1', 'Control2', 'Treated1', 'Treated2']\n",
    "control1 = pd.DataFrame()\n",
    "control2 = pd.DataFrame()\n",
    "treated1 = pd.DataFrame()\n",
    "treated2 = pd.DataFrame()\n",
    "\n",
    "frames = [None]*4\n",
    "\n",
    "for ind, sample in enumerate(samples):\n",
    "    df =  pd.read_csv(f'{path}/{sample}{resolution}', sep = '\\t', header = None, \n",
    "                      names = ['chrom1', 'start1', 'end1', 'chrom2', 'start2', 'end2', 'count', 'balanced'],\n",
    "                     dtype={'chrom1': 'str'})\n",
    "    \n",
    "    \n",
    "    frames[ind] = df.dropna().reset_index(drop=True)\n",
    "    sample_col = [sample]* len(frames[ind])\n",
    "    frames[ind]['Sample'] = sample_col\n",
    "    \n",
    "    \n",
    "control1 = frames[0]\n",
    "control2 = frames[1]\n",
    "treated1 = frames[2]\n",
    "treated2 = frames[3]   \n",
    "\n",
    "chromosomes = control1['chrom1'].unique()\n",
    "print(chromosomes)"
   ]
  },
  {
   "cell_type": "markdown",
   "id": "83393c26-4770-46a7-bd0f-ad18db6c4cc7",
   "metadata": {},
   "source": [
    "## Filter for more frequent contacts.\n",
    "Choose the quantile threshold, and select whether you want to analyze counts ('count') or balanced counts ('balanced')"
   ]
  },
  {
   "cell_type": "code",
   "execution_count": 6,
   "id": "1461a56c",
   "metadata": {},
   "outputs": [],
   "source": [
    "count = 'count'\n",
    "quantile_thresh = 0.99\n",
    "frames = [control1, control2, treated1, treated2]\n",
    "\n",
    "contacts = pd.DataFrame()\n",
    "\n",
    "total_data = list(control1[count]) + list(control2[count]) + list(treated1[count]) + list(treated2[count])\n",
    "data = {'counts': total_data}\n",
    "data = pd.DataFrame(data)\n",
    "threshold = data['counts'].quantile(quantile_thresh)\n",
    "\n",
    "for frame in frames:\n",
    "    frame = frame[frame[count]>= threshold]\n",
    "    frame = pd.DataFrame(frame)\n",
    "    frames = [contacts, frame]\n",
    "    contacts = pd.concat(frames)\n",
    "\n",
    "    \n",
    "new_index = np.linspace(1, len(contacts), len(contacts), dtype = int)\n",
    "contacts['Index'] = new_index\n",
    "contacts = contacts.set_index('Index')"
   ]
  },
  {
   "cell_type": "markdown",
   "id": "05b16c6a-90b6-47dd-899e-96ae74360089",
   "metadata": {},
   "source": [
    "Plot distribution of selected contacts\n"
   ]
  },
  {
   "cell_type": "code",
   "execution_count": 7,
   "id": "13ae93ea",
   "metadata": {},
   "outputs": [
    {
     "data": {
      "text/plain": [
       "<AxesSubplot:xlabel='count', ylabel='Count'>"
      ]
     },
     "execution_count": 7,
     "metadata": {},
     "output_type": "execute_result"
    },
    {
     "data": {
      "image/png": "[encoded data removed]",
      "text/plain": [
       "<Figure size 432x288 with 1 Axes>"
      ]
     },
     "metadata": {
      "needs_background": "light"
     },
     "output_type": "display_data"
    }
   ],
   "source": [
    "sns.histplot(x = 'count', hue = 'Sample', data = contacts, log_scale = True, bins= 100)"
   ]
  },
  {
   "cell_type": "markdown",
   "id": "724a1d49-3f22-4afa-9ca5-7e894046fbfd",
   "metadata": {},
   "source": [
    "## ADD CIRCUIT DIAGRAM CODE"
   ]
  },
  {
   "cell_type": "markdown",
   "id": "cd509ab4-5cef-4f99-a64b-144cbc0a795f",
   "metadata": {
    "tags": []
   },
   "source": [
    "## OPTIONAL: Plot contact distribution + threshold (use only for low resolution) "
   ]
  },
  {
   "cell_type": "code",
   "execution_count": 8,
   "id": "84c2207d-a40b-4a68-869e-c9667e2d4dac",
   "metadata": {},
   "outputs": [
    {
     "data": {
      "text/plain": [
       "Text(0.5, 0, 'Contact count')"
      ]
     },
     "execution_count": 8,
     "metadata": {},
     "output_type": "execute_result"
    },
    {
     "data": {
      "image/png": "[encoded data removed]",
      "text/plain": [
       "<Figure size 432x288 with 1 Axes>"
      ]
     },
     "metadata": {
      "needs_background": "light"
     },
     "output_type": "display_data"
    }
   ],
   "source": [
    "#Make dataframe of all data combined\n",
    "frames = [control1, control2, treated1, treated2]\n",
    "df_tot = pd.concat(frames)\n",
    "new_index = np.linspace(1, len(df_tot), len(df_tot), dtype = int)\n",
    "df_tot['Index'] = new_index\n",
    "df_tot = df_tot.set_index('Index')\n",
    "\n",
    "#Make vertical line for quantile threshold\n",
    "y1 = np.linspace(0, 10**7, 10)\n",
    "x1 = np.ones(10)*threshold\n",
    "plt.plot(x1, y1)\n",
    "\n",
    "#Plot histogram\n",
    "sns.histplot( x = 'count', data = df_tot, color = 'c', log_scale = True, bins = 150)\n",
    "plt.plot(x1, y1, color = 'k')\n",
    "plt.yscale('log')\n",
    "plt.title('Number of contacts, distribution')\n",
    "plt.xlabel('Contact count')"
   ]
  },
  {
   "cell_type": "markdown",
   "id": "66502833-e47d-4841-8ad7-90df845ae679",
   "metadata": {},
   "source": [
    "## OPTIONAL: Calculate p values associated to contact distributions for the 4 samples"
   ]
  },
  {
   "cell_type": "code",
   "execution_count": 9,
   "id": "c462ff92-49e0-486c-a42a-c5adbbda8338",
   "metadata": {},
   "outputs": [
    {
     "name": "stdout",
     "output_type": "stream",
     "text": [
      "Control1, Control2\n",
      "the distributions are not normal: 2.6206690888451006e-35, 8.087053163222677e-36\n",
      "The distributions have equal variance: 0.16541051687158514\n",
      "Mannwhitneyu test: False = 0.005523781463222464\n",
      "Control1, Treated1\n",
      "the distributions are not normal: 7.468025239397531e-36, 1.7888643471263245e-35\n",
      "The distributions have equal variance: 0.9181399738317467\n",
      "Mannwhitneyu test: True = 0.13248919293967085\n",
      "Control1, Treated2\n",
      "the distributions are not normal: 1.0641487341133172e-32, 2.5498867539075216e-32\n",
      "The distributions have equal variance: 0.6307379030056712\n",
      "Mannwhitneyu test: True = 0.5276249767219305\n",
      "Control2, Control1\n",
      "the distributions are not normal: 3.6072282645200743e-35, 1.0533756957300156e-32\n",
      "The distributions have equal variance: 0.42630956421739974\n",
      "Mannwhitneyu test: True = 0.5093541776543984\n",
      "Control2, Treated1\n",
      "the distributions are not normal: 3.623086819776932e-35, 1.3591768225752897e-34\n",
      "The distributions have equal variance: 0.16031972625471497\n",
      "Mannwhitneyu test: True = 0.8184060406074044\n",
      "Control2, Treated2\n",
      "the distributions are not normal: 2.2992128533614388e-35, 1.0859999710501039e-34\n",
      "The distributions have equal variance: 0.8919751007142729\n",
      "Mannwhitneyu test: False = 0.015755588340018164\n",
      "Treated1, Control1\n",
      "the distributions are not normal: 6.578417657974325e-35, 1.5139312278328948e-34\n",
      "The distributions have equal variance: 0.5355182788795926\n",
      "Mannwhitneyu test: True = 0.665820227232242\n",
      "Treated1, Control2\n",
      "the distributions are not normal: 7.408540748265486e-34, 7.559740201466815e-36\n",
      "The distributions have equal variance: 0.29355008072825106\n",
      "Mannwhitneyu test: True = 0.5696422937403381\n",
      "Treated1, Treated2\n",
      "the distributions are not normal: 3.73322771319254e-35, 9.318584385856869e-36\n",
      "The distributions have equal variance: 0.4033648389167658\n",
      "Mannwhitneyu test: True = 0.8473620317118901\n",
      "Treated2, Control1\n",
      "the distributions are not normal: 1.3245351819878307e-35, 5.0884923436315e-35\n",
      "The distributions have equal variance: 0.8017020473387607\n",
      "Mannwhitneyu test: True = 0.3639164377406653\n",
      "Treated2, Control2\n",
      "the distributions are not normal: 7.01436649795482e-36, 1.501520119704623e-35\n",
      "The distributions have equal variance: 0.7657759506516678\n",
      "Mannwhitneyu test: True = 0.7210240020576\n",
      "Treated2, Treated1\n",
      "the distributions are not normal: 1.52391320099201e-35, 3.007567155397984e-35\n",
      "The distributions have equal variance: 0.4298829943492727\n",
      "Mannwhitneyu test: True = 0.9905157935530899\n"
     ]
    },
    {
     "data": {
      "text/plain": [
       "<AxesSubplot:title={'center':'P-VALUES COUNT'}>"
      ]
     },
     "execution_count": 9,
     "metadata": {},
     "output_type": "execute_result"
    },
    {
     "data": {
      "image/png": "[encoded data removed]",
      "text/plain": [
       "<Figure size 576x468 with 2 Axes>"
      ]
     },
     "metadata": {
      "needs_background": "light"
     },
     "output_type": "display_data"
    }
   ],
   "source": [
    "quantity = 'count'\n",
    "\n",
    "p_values_matrix = np.ones((len(samples), len(samples)))\n",
    "p_values = {}\n",
    "\n",
    "for ind1, sample1 in enumerate(samples):\n",
    "    for ind2, sample2 in enumerate(samples):\n",
    "        if (sample1 != sample2):\n",
    "            \n",
    "            dist1 = df_tot[df_tot['Sample'] == sample1 ][quantity]\n",
    "            dist2 = df_tot[df_tot['Sample'] == sample2 ][quantity]\n",
    "            \n",
    "            sample_1 = random.choices(list(dist1), k=300)\n",
    "            sample_2 = random.choices(list(dist2), k=300)\n",
    "            print(f'{sample1}, {sample2}')\n",
    "            stats = comparison_distributions(sample_1, sample_2)\n",
    "            p_value = float(stats[-1])\n",
    "            key = tuple[sample1, sample2]\n",
    "            p_values[key] = p_value\n",
    "            p_values_matrix[ind1, ind2] = p_value\n",
    "            \n",
    "            \n",
    "cmap = sns.diverging_palette(220, 20, sep=200, as_cmap=True).reversed()\n",
    "label = []\n",
    "\n",
    "a = plt.figure(figsize = (8, 6.5))\n",
    "plt.title(f'P-values {quantity}'.upper())\n",
    "sns.heatmap(p_values_matrix, xticklabels = samples, yticklabels = samples, annot = True, cmap = cmap, linewidths=1, \n",
    "            linecolor='white', alpha = 0.95)   "
   ]
  },
  {
   "cell_type": "markdown",
   "id": "173e3633",
   "metadata": {},
   "source": [
    "# CALCULATE CT AND NETWORK PARAMETERS\n",
    "Choose path for results and the samples you want to analyze"
   ]
  },
  {
   "cell_type": "code",
   "execution_count": 10,
   "id": "29c4f547",
   "metadata": {},
   "outputs": [],
   "source": [
    "plot_matrix = 0"
   ]
  },
  {
   "cell_type": "code",
   "execution_count": null,
   "id": "d2a33ef9",
   "metadata": {},
   "outputs": [],
   "source": [
    "path_df = 'results counts'\n",
    "selection_sample = 'Control1'\n",
    "selected_contacts = contacts[contacts['Sample'] == selection_sample]\n",
    "\n",
    "N_contacts=np.zeros(len(chromosomes))\n",
    "P=np.zeros(len(chromosomes))\n",
    "S=np.zeros(len(chromosomes))\n",
    "X=np.zeros(len(chromosomes))\n",
    "Dim_fractal = np.zeros(len(chromosomes))\n",
    "r2_fractalfit = np.zeros(len(chromosomes))\n",
    "clustering = np.zeros(len(chromosomes))\n",
    "\n",
    "for t, chrom in enumerate(chromosomes):\n",
    "    print(chrom)\n",
    "    contacts_chr= selected_contacts[(selected_contacts['chrom1']== chrom) & (selected_contacts['chrom2']==chrom)]\n",
    "    \n",
    "    length1 = (contacts_chr['end1'] -  contacts_chr['start1'])//2\n",
    "    contacts_chr['position1']=  pd.Series(contacts_chr['start1'] + length1)\n",
    "    \n",
    "    length2 = (contacts_chr['end2'] -  contacts_chr['start2'])//2\n",
    "    contacts_chr['position2']=  pd.Series(contacts_chr['start2'] + length2)\n",
    "    \n",
    "    index = [contacts_chr['position1'], contacts_chr['position2']]\n",
    "    counts = np.array(contacts_chr['count'])\n",
    "    index=np.array(index)\n",
    "    index= np.transpose(index)\n",
    "\n",
    "    N_contacts[t]= len(index)\n",
    "    \n",
    "    mat, psc = get_matrix(index, chrom)\n",
    "    write_topology_matrix(mat, f'{path_df}/matrices', namefile = f'{chrom}_{selection_sample}_{resolution}')\n",
    "    P[t], S[t], X[t]=normalize_psc(psc, N_contacts[t])\n",
    "    \n",
    "    Dim_fractal[t], r2_fractalfit[t] = fractal_dimension(mat, plot_fig=0)\n",
    "    \n",
    "    G=make_graph(index)\n",
    "    clustering[t] = nx.average_clustering(G)\n",
    "    \n",
    "    if plot_matrix:\n",
    "        plt.figure(figsize=(5, 5))\n",
    "        plt.imshow(mat[:300, :300])\n",
    "        plt.title('{}'.format(chrom))\n",
    "    else:\n",
    "        continue\n",
    "\n",
    "\n",
    "df = {'Chromosome': chromosomes, 'Parallel (%)': P, 'Series (%)': S, 'Cross (%)': X, 'Clustering coeff': clustering,\n",
    "      'Fractal dimension': Dim_fractal, 'R2': r2_fractalfit, 'N contacts': N_contacts}\n",
    "df = pd.DataFrame(df)"
   ]
  },
  {
   "cell_type": "code",
   "execution_count": null,
   "id": "a7932ea7",
   "metadata": {},
   "outputs": [],
   "source": []
  }
 ],
 "metadata": {
  "kernelspec": {
   "display_name": "Python 3 (ipykernel)",
   "language": "python",
   "name": "python3"
  },
  "language_info": {
   "codemirror_mode": {
    "name": "ipython",
    "version": 3
   },
   "file_extension": ".py",
   "mimetype": "text/x-python",
   "name": "python",
   "nbconvert_exporter": "python",
   "pygments_lexer": "ipython3",
   "version": "3.9.12"
  }
 },
 "nbformat": 4,
 "nbformat_minor": 5
}
