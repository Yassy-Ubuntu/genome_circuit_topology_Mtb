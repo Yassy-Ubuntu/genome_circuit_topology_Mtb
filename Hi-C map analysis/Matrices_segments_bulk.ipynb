{
 "cells": [
  {
   "cell_type": "code",
   "execution_count": 1,
   "id": "3ad6b93a",
   "metadata": {},
   "outputs": [],
   "source": [
    "import numpy as np\n",
    "import matplotlib.pyplot as plt\n",
    "%matplotlib inline\n",
    "import PIL.Image\n",
    "import networkx as nx\n",
    "import pandas as pd\n",
    "pd.options.mode.chained_assignment = None  # default='warn'\n",
    "import string\n",
    "\n",
    "import sys\n",
    "path=r'C:\\Users\\31649\\Documents\\genome analysis\\genome_topology\\functions'\n",
    "sys.path.append(path)\n",
    "\n",
    "from genome_topology import open_pdb\n",
    "from genome_topology import select_chrom\n",
    "from genome_topology import geom_distance\n",
    "from genome_topology import fractal_dimension\n",
    "from genome_topology import get_matrix\n",
    "from genome_topology import normalize_psc\n",
    "from matrix_analysis import write_topology_matrix"
   ]
  },
  {
   "cell_type": "markdown",
   "id": "11e8cf1b",
   "metadata": {},
   "source": [
    "## Functions"
   ]
  },
  {
   "cell_type": "code",
   "execution_count": 2,
   "id": "78a1f859",
   "metadata": {},
   "outputs": [],
   "source": [
    "def SplitChromosomesIntoSegments (coordinates, n_segments):\n",
    "    length_coords= len(coordinates)\n",
    "    length_segments = length_coords//n_segments\n",
    "    rest=np.mod(length_coords,n_segments)\n",
    "    segments = []\n",
    "\n",
    "    for i in range(0, length_coords - rest, length_segments):\n",
    "        segments.append(coordinates[i:i + length_segments])\n",
    "\n",
    "    return segments\n",
    "\n",
    "def contact_indexes(pos1, pos2):\n",
    "    index = [pos1, pos2]\n",
    "    index=np.array(index)\n",
    "    index= np.transpose(index)\n",
    "    return index"
   ]
  },
  {
   "cell_type": "markdown",
   "id": "ee2332da",
   "metadata": {},
   "source": [
    "# Split the chromosomes into segments to produce local matrices"
   ]
  },
  {
   "cell_type": "markdown",
   "id": "500b52fe",
   "metadata": {},
   "source": [
    "##  Load data\n",
    "Pick the resolution "
   ]
  },
  {
   "cell_type": "code",
   "execution_count": 3,
   "id": "54bb218f",
   "metadata": {},
   "outputs": [],
   "source": [
    "resolution = '40'\n",
    "path = 'data/zoomify processed'\n",
    "samples = ['Control1', 'Control2', 'Treated1', 'Treated2']\n",
    "control1 = pd.DataFrame()\n",
    "control2 = pd.DataFrame()\n",
    "treated1 = pd.DataFrame()\n",
    "treated2 = pd.DataFrame()\n",
    "\n",
    "frames = [None]*4\n",
    "\n",
    "for ind, sample in enumerate(samples):\n",
    "    df =  pd.read_csv(f'{path}/{sample}{resolution}', sep = '\\t', header = None, \n",
    "                      names = ['chrom1', 'start1', 'end1', 'chrom2', 'start2', 'end2', 'count', 'balanced'],\n",
    "                     dtype={'chrom1': 'str'})\n",
    "    \n",
    "    \n",
    "    frames[ind] = df.dropna().reset_index(drop=True)\n",
    "    sample_col = [sample]* len(frames[ind])\n",
    "    frames[ind]['Sample'] = sample_col\n",
    "    \n",
    "    \n",
    "control1 = frames[0]\n",
    "control2 = frames[1]\n",
    "treated1 = frames[2]\n",
    "treated2 = frames[3]"
   ]
  },
  {
   "cell_type": "markdown",
   "id": "3f76c9c2",
   "metadata": {},
   "source": [
    "## Filter data by their number of counts\n",
    " - Decide the quantile for data filtering \n",
    " - Decide the type of counts you want to filter by (count/balanced count)"
   ]
  },
  {
   "cell_type": "code",
   "execution_count": 5,
   "id": "9148fabb",
   "metadata": {},
   "outputs": [],
   "source": [
    "threshold_quantile = 0.99\n",
    "count = 'count'\n",
    "\n",
    "frames = [control1, control2, treated1, treated2]\n",
    "contacts = pd.DataFrame()\n",
    "\n",
    "total_data = list(control1[count]) + list(control2[count]) + list(treated1[count]) + list(treated2[count])\n",
    "data = {'counts': total_data}\n",
    "data = pd.DataFrame(data)\n",
    "threshold = data['counts'].quantile(threshold_quantile)\n",
    "\n",
    "for frame in frames:\n",
    "    frame = frame[frame[count]>= threshold]\n",
    "    frame = pd.DataFrame(frame)\n",
    "    frames = [contacts, frame]\n",
    "    contacts = pd.concat(frames)\n",
    "\n",
    "    \n",
    "new_index = np.linspace(1, len(contacts), len(contacts), dtype = int)\n",
    "contacts['Index'] = new_index\n",
    "contacts = contacts.set_index('Index')"
   ]
  },
  {
   "cell_type": "code",
   "execution_count": 6,
   "id": "86aa9a69",
   "metadata": {},
   "outputs": [],
   "source": [
    "chromosomes = control1['chrom1'].unique()\n"
   ]
  },
  {
   "cell_type": "markdown",
   "id": "0f9126b7",
   "metadata": {},
   "source": [
    "## Split chromosomes in segments and produce topology matrices for the segments\n",
    "Pick the path for saving the matrices"
   ]
  },
  {
   "cell_type": "code",
   "execution_count": 8,
   "id": "a404ffc2",
   "metadata": {},
   "outputs": [],
   "source": [
    "save_matrix = False"
   ]
  },
  {
   "cell_type": "code",
   "execution_count": null,
   "id": "55c0cfbf",
   "metadata": {},
   "outputs": [
    {
     "name": "stdout",
     "output_type": "stream",
     "text": [
      "Control1\n",
      "Chromosome 1\n",
      "0\n",
      "1\n"
     ]
    }
   ],
   "source": [
    "n_segments = 4\n",
    "path_matrices = f'results counts/matrices/local matrices/{resolution}/{n_segments} segments'\n",
    "plot_matrix = False\n",
    "\n",
    "for sample in samples:\n",
    "    print(sample)\n",
    "    contacts_sample = contacts[contacts['Sample'] == sample]\n",
    "    for chrom in chromosomes:\n",
    "        print(f'Chromosome {chrom}')\n",
    "        contacts_chr= contacts_sample[(contacts_sample['chrom1']== chrom) & (contacts_sample['chrom2']==chrom)]\n",
    "        \n",
    "        length1 = (contacts_chr['end1'] -  contacts_chr['start1'])//2\n",
    "        contacts_chr['position1']=  pd.Series(contacts_chr['start1'] + length1)\n",
    "    \n",
    "        length2 = (contacts_chr['end2'] -  contacts_chr['start2'])//2\n",
    "        contacts_chr['position2']=  pd.Series(contacts_chr['start2'] + length2)\n",
    "        \n",
    "        maxim_coord = contacts_chr['end1'].max() \n",
    "        bins = np.linspace(0, maxim_coord, n_segments + 1,  dtype= int)\n",
    "        \n",
    "        segments = []\n",
    "\n",
    "        for t in range(len(bins)-1):\n",
    "            contacts_pos1 = contacts_chr[(contacts_chr['position1']> bins[t]) & (contacts_chr['position1']< bins[t + 1])]\n",
    "            contacts_pos2 = contacts_pos1[(contacts_pos1['position2']> bins[t]) & (contacts_pos1['position2']< bins[t + 1])]\n",
    "    \n",
    "            index = contact_indexes(contacts_pos2['position1'], contacts_pos2['position2'])\n",
    "            segments.append(index)\n",
    "            \n",
    "        for j in range(n_segments):\n",
    "            print(j)\n",
    "            N_contacts= len(segments[j])\n",
    "            mat, psc = get_matrix(segments[j], 'segm')\n",
    "            if save_matrix:\n",
    "                write_topology_matrix(mat, path_matrices , namefile = f'{chrom}_{sample}_{j}')\n",
    "                \n",
    "            if plot_matrix:\n",
    "                plt.figure()\n",
    "                plt.imshow(mat)\n",
    "        \n",
    "        "
   ]
  },
  {
   "cell_type": "code",
   "execution_count": null,
   "id": "0300d75e",
   "metadata": {},
   "outputs": [],
   "source": []
  }
 ],
 "metadata": {
  "kernelspec": {
   "display_name": "Python 3 (ipykernel)",
   "language": "python",
   "name": "python3"
  },
  "language_info": {
   "codemirror_mode": {
    "name": "ipython",
    "version": 3
   },
   "file_extension": ".py",
   "mimetype": "text/x-python",
   "name": "python",
   "nbconvert_exporter": "python",
   "pygments_lexer": "ipython3",
   "version": "3.7.13"
  }
 },
 "nbformat": 4,
 "nbformat_minor": 5
}
