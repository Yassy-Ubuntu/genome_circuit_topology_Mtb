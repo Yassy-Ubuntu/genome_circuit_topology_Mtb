{
 "cells": [
  {
   "cell_type": "code",
   "execution_count": 3,
   "id": "645340ba",
   "metadata": {},
   "outputs": [],
   "source": [
    "import numpy as np\n",
    "import matplotlib.pyplot as plt\n",
    "%matplotlib inline\n",
    "import seaborn as sns\n",
    "\n",
    "import scipy as sy\n",
    "import scipy.stats\n",
    "import pandas as pd\n",
    "pd.options.mode.chained_assignment = None  # default='warn'\n",
    "from scipy import ndimage\n",
    "import PIL.Image\n",
    "import math\n",
    "import os\n",
    "import string\n",
    "\n",
    "import sys\n",
    "path=r'C:\\Users\\scalvinib\\Documents\\Phd_project_reduced\\work directory jupyter lab\\topology\\genome_topology\\functions'\n",
    "sys.path.append(path)\n",
    "\n",
    "\n",
    "from statistical_analysis import correlate\n",
    "from statistical_analysis import comparison_distributions\n",
    "from math_tools import lin_fit\n",
    "from math_tools import line\n",
    "from plotting_tools import set_layout\n",
    "from plotting_tools import save_figures\n",
    "from matrix_analysis import Select_entangled_fraction\n",
    "from matrix_analysis import length_L_pattern\n",
    "from matrix_analysis import read_topology_matrix"
   ]
  },
  {
   "cell_type": "markdown",
   "id": "a650ff59",
   "metadata": {},
   "source": [
    "## Plot the topology matrix\n",
    "Short notebook for quick visualization of the topology matrix.\n",
    "- Pick resolution, quantile threshold, segment number, chromosome, sample\n",
    "of the matrix you want to visualize from your dataset"
   ]
  },
  {
   "cell_type": "code",
   "execution_count": 42,
   "id": "56572fc2",
   "metadata": {},
   "outputs": [],
   "source": [
    "resolution = '80'\n",
    "chrom = '1'\n",
    "sample = 'Control1'\n",
    "thresh = 0.99\n",
    "chosen_segment = 0\n",
    "n_segments=8\n",
    "path_matrices = f'results counts/matrices/local matrices/{resolution}/{n_segments} segments'\n",
    "path_figures = f'results counts/figures/pictures for figure'\n",
    "samples = ['Control1', 'Control2', 'Treated1', 'Treated2']\n",
    "\n",
    "#Read matrix\n",
    "matrix = read_topology_matrix(f'{path_matrices}/{chrom}_{sample}_{chosen_segment}.feather')"
   ]
  },
  {
   "cell_type": "markdown",
   "id": "597eba97",
   "metadata": {},
   "source": [
    "Plot the matrix: choose the boundaries to visualize a portion of the matrix only (startx, endx, starty, endy)"
   ]
  },
  {
   "cell_type": "code",
   "execution_count": 43,
   "id": "17baf1bd",
   "metadata": {},
   "outputs": [
    {
     "data": {
      "text/plain": [
       "<matplotlib.image.AxesImage at 0x20c15ae7988>"
      ]
     },
     "execution_count": 43,
     "metadata": {},
     "output_type": "execute_result"
    },
    {
     "data": {
      "image/png": "[encoded data removed]",
      "text/plain": [
       "<Figure size 720x576 with 1 Axes>"
      ]
     },
     "metadata": {
      "needs_background": "light"
     },
     "output_type": "display_data"
    }
   ],
   "source": [
    "plt.figure(figsize = (10, 8))\n",
    "set_layout(18, 18, 18)\n",
    "plt.title(f'Chromosome {chrom} : segment {chosen_segment}, {sample}')\n",
    "len_matrix = len(matrix)\n",
    "\n",
    "startx = 0\n",
    "endx = 100\n",
    "starty = 0\n",
    "endy = 100\n",
    "\n",
    "plt.imshow(matrix[startx: endx, starty: endy])"
   ]
  },
  {
   "cell_type": "markdown",
   "id": "96b9f842",
   "metadata": {},
   "source": [
    "Export the (portion of the) matrix to tiff file, to visualize with Fiji"
   ]
  },
  {
   "cell_type": "code",
   "execution_count": 44,
   "id": "8a84740b",
   "metadata": {},
   "outputs": [],
   "source": [
    "cut_matrix = matrix[startx: endx, starty : endy]\n",
    "#PIL.Image.fromarray(cut_matrix.astype(float)\n",
    "#                   ).save(f'{path_matrices}/{chosen_segment}_cut[{startx},{endx},{starty},{endy}].tif')\n",
    "\n",
    "PIL.Image.fromarray(cut_matrix.astype(float)\n",
    "                   ).save(f'{path_figures}/{resolution}_cut[{startx},{endx},{starty},{endy}].tif')"
   ]
  },
  {
   "cell_type": "code",
   "execution_count": null,
   "id": "c2197257",
   "metadata": {},
   "outputs": [],
   "source": []
  }
 ],
 "metadata": {
  "kernelspec": {
   "display_name": "Python 3 (ipykernel)",
   "language": "python",
   "name": "python3"
  },
  "language_info": {
   "codemirror_mode": {
    "name": "ipython",
    "version": 3
   },
   "file_extension": ".py",
   "mimetype": "text/x-python",
   "name": "python",
   "nbconvert_exporter": "python",
   "pygments_lexer": "ipython3",
   "version": "3.7.13"
  }
 },
 "nbformat": 4,
 "nbformat_minor": 5
}
