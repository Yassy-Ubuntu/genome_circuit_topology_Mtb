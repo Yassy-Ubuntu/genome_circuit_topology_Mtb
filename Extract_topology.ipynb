{
 "cells": [
  {
   "cell_type": "code",
   "execution_count": 1,
   "metadata": {},
   "outputs": [
    {
     "name": "stderr",
     "output_type": "stream",
     "text": [
      "\n",
      "Bad key text.latex.unicode in file C:\\Users\\scalvinib\\Anaconda3\\envs\\data_analysis\\lib\\site-packages\\matplotlib\\mpl-data\\stylelib\\_classic_test.mplstyle, line 112 ('text.latex.unicode : False # use \"ucs\" and \"inputenc\" LaTeX packages for handling')\n",
      "You probably need to get an updated matplotlibrc file from\n",
      "https://github.com/matplotlib/matplotlib/blob/v3.4.2/matplotlibrc.template\n",
      "or from the matplotlib source distribution\n",
      "\n",
      "Bad key savefig.frameon in file C:\\Users\\scalvinib\\Anaconda3\\envs\\data_analysis\\lib\\site-packages\\matplotlib\\mpl-data\\stylelib\\_classic_test.mplstyle, line 423 ('savefig.frameon : True')\n",
      "You probably need to get an updated matplotlibrc file from\n",
      "https://github.com/matplotlib/matplotlib/blob/v3.4.2/matplotlibrc.template\n",
      "or from the matplotlib source distribution\n",
      "\n",
      "Bad key pgf.debug in file C:\\Users\\scalvinib\\Anaconda3\\envs\\data_analysis\\lib\\site-packages\\matplotlib\\mpl-data\\stylelib\\_classic_test.mplstyle, line 444 ('pgf.debug           : False')\n",
      "You probably need to get an updated matplotlibrc file from\n",
      "https://github.com/matplotlib/matplotlib/blob/v3.4.2/matplotlibrc.template\n",
      "or from the matplotlib source distribution\n",
      "\n",
      "Bad key verbose.level in file C:\\Users\\scalvinib\\Anaconda3\\envs\\data_analysis\\lib\\site-packages\\matplotlib\\mpl-data\\stylelib\\_classic_test.mplstyle, line 475 ('verbose.level  : silent      # one of silent, helpful, debug, debug-annoying')\n",
      "You probably need to get an updated matplotlibrc file from\n",
      "https://github.com/matplotlib/matplotlib/blob/v3.4.2/matplotlibrc.template\n",
      "or from the matplotlib source distribution\n",
      "\n",
      "Bad key verbose.fileo in file C:\\Users\\scalvinib\\Anaconda3\\envs\\data_analysis\\lib\\site-packages\\matplotlib\\mpl-data\\stylelib\\_classic_test.mplstyle, line 476 ('verbose.fileo  : sys.stdout  # a log filename, sys.stdout or sys.stderr')\n",
      "You probably need to get an updated matplotlibrc file from\n",
      "https://github.com/matplotlib/matplotlib/blob/v3.4.2/matplotlibrc.template\n",
      "or from the matplotlib source distribution\n",
      "In C:\\Users\\scalvinib\\Anaconda3\\envs\\data_analysis\\lib\\site-packages\\matplotlib\\mpl-data\\stylelib\\_classic_test.mplstyle: \n",
      "The text.latex.preview rcparam was deprecated in Matplotlib 3.3 and will be removed two minor releases later.\n",
      "In C:\\Users\\scalvinib\\Anaconda3\\envs\\data_analysis\\lib\\site-packages\\matplotlib\\mpl-data\\stylelib\\_classic_test.mplstyle: \n",
      "The mathtext.fallback_to_cm rcparam was deprecated in Matplotlib 3.3 and will be removed two minor releases later.\n",
      "In C:\\Users\\scalvinib\\Anaconda3\\envs\\data_analysis\\lib\\site-packages\\matplotlib\\mpl-data\\stylelib\\_classic_test.mplstyle: Support for setting the 'mathtext.fallback_to_cm' rcParam is deprecated since 3.3 and will be removed two minor releases later; use 'mathtext.fallback : 'cm' instead.\n",
      "In C:\\Users\\scalvinib\\Anaconda3\\envs\\data_analysis\\lib\\site-packages\\matplotlib\\mpl-data\\stylelib\\_classic_test.mplstyle: \n",
      "The validate_bool_maybe_none function was deprecated in Matplotlib 3.3 and will be removed two minor releases later.\n",
      "In C:\\Users\\scalvinib\\Anaconda3\\envs\\data_analysis\\lib\\site-packages\\matplotlib\\mpl-data\\stylelib\\_classic_test.mplstyle: \n",
      "The savefig.jpeg_quality rcparam was deprecated in Matplotlib 3.3 and will be removed two minor releases later.\n",
      "In C:\\Users\\scalvinib\\Anaconda3\\envs\\data_analysis\\lib\\site-packages\\matplotlib\\mpl-data\\stylelib\\_classic_test.mplstyle: \n",
      "The keymap.all_axes rcparam was deprecated in Matplotlib 3.3 and will be removed two minor releases later.\n",
      "In C:\\Users\\scalvinib\\Anaconda3\\envs\\data_analysis\\lib\\site-packages\\matplotlib\\mpl-data\\stylelib\\_classic_test.mplstyle: \n",
      "The animation.avconv_path rcparam was deprecated in Matplotlib 3.3 and will be removed two minor releases later.\n",
      "In C:\\Users\\scalvinib\\Anaconda3\\envs\\data_analysis\\lib\\site-packages\\matplotlib\\mpl-data\\stylelib\\_classic_test.mplstyle: \n",
      "The animation.avconv_args rcparam was deprecated in Matplotlib 3.3 and will be removed two minor releases later.\n"
     ]
    },
    {
     "name": "stdout",
     "output_type": "stream",
     "text": [
      "Using matplotlib backend: Qt5Agg\n"
     ]
    }
   ],
   "source": [
    "import numpy as np\n",
    "import matplotlib.pyplot as plt\n",
    "#% inline\n",
    "%matplotlib\n",
    "import PIL.Image\n",
    "import networkx as nx\n",
    "import pandas as pd\n",
    "import string\n",
    "\n",
    "from functions.genome_topology import open_pdb\n",
    "from functions.genome_topology import select_chrom\n",
    "from functions.genome_topology import geom_distance\n",
    "from functions.genome_topology import make_graph\n",
    "from functions.genome_topology import fractal_dimension\n",
    "from functions.genome_topology import get_matrix\n",
    "from functions.genome_topology import normalize_psc\n",
    "from functions.plotting_tools import set_layout\n",
    "from functions.plotting_tools import matrix_plot"
   ]
  },
  {
   "cell_type": "markdown",
   "metadata": {},
   "source": [
    "## CIRCUIT TOPOLOGY ANALISIS OF CHROMOSOME 3D STRUCTURES"
   ]
  },
  {
   "cell_type": "markdown",
   "metadata": {},
   "source": [
    "This notebook processes 3D structures of chromosomes (in PDB format) to extract topological parameters such as:\n",
    "- CT parameters (percentage of series, parallel and cross, number of contacts) \n",
    "- Network clustering coefficient\n",
    "- Fractal dimension (calculated over the CT topology matrix)\n",
    "\n",
    "First, the PDB structures are processed in order to find spatial contacts. A spatial cutoff needs to be defined for contact selection (suggested range of values: 1.0-2.0). Chromosome ID is expressed as letters (ex: 'chr a'). It is possible to save the topology matrix in TIF format, and the topological parameters in csv format."
   ]
  },
  {
   "cell_type": "markdown",
   "metadata": {},
   "source": [
    "Choose paramters: cell number, cutoff radius and number of neighbors to exclude from the analysis"
   ]
  },
  {
   "cell_type": "code",
   "execution_count": 2,
   "metadata": {},
   "outputs": [
    {
     "name": "stdout",
     "output_type": "stream",
     "text": [
      "analyzing cell 1\n"
     ]
    }
   ],
   "source": [
    "path = 'data/pdbs/cell1'\n",
    "r_cutoff=1.0\n",
    "neighbours=1\n",
    "set_layout()\n",
    "n_all_chr=20\n",
    "letters=list(string.ascii_lowercase)\n",
    "chr_vec=['chr {}'.format(letter) for letter in letters[:n_all_chr]]\n",
    "cell=path[-5:]\n",
    "\n",
    "print('analyzing {} {}'.format(cell[:-1], cell[-1:]))"
   ]
  },
  {
   "cell_type": "markdown",
   "metadata": {},
   "source": [
    "### PROCESS SINGLE CHROMOSOME"
   ]
  },
  {
   "cell_type": "code",
   "execution_count": 3,
   "metadata": {},
   "outputs": [],
   "source": [
    "save_data= False\n",
    "save_matrix= True\n",
    "path_savematrix='results/matrices'\n",
    "path_savedata='results/CT parameters'"
   ]
  },
  {
   "cell_type": "code",
   "execution_count": 4,
   "metadata": {},
   "outputs": [],
   "source": [
    "#Choose chromosome\n",
    "chosen_chr=0 \n",
    "\n",
    "#Find contacts\n",
    "n, coord= select_chrom(chosen_chr, path)\n",
    "dist, n_contact, index=geom_distance(coord, r_cutoff, neighbours)\n",
    "\n",
    "#Extract topological parameters\n",
    "mat, stats = get_matrix(index,chr_vec[chosen_chr])\n",
    "P, S, X=normalize_psc(stats, len(index))\n",
    "Dim_fractal, r2=fractal_dimension(mat, plot_fig=0)\n",
    "\n",
    "#Build network and calculate clustering coefficient\n",
    "G=make_graph(index)\n",
    "clustering= nx.average_clustering(G)\n",
    "\n",
    "#plot figures\n",
    "#Plot 2D projections of chromosome choordinate\n",
    "plt.figure()\n",
    "plt.plot(coord[:,0], coord[:,2])\n",
    "plt.title('CHROMOSOME {}'.format(chr_vec[chosen_chr][-1:].upper()))\n",
    "plt.xlabel('y')\n",
    "plt.ylabel('z')\n",
    "\n",
    "#Plot topology matrix\n",
    "plt.figure(figsize=(7, 7))\n",
    "plt.imshow(mat)\n",
    "plt.title('CHROMOSOME {}'.format(chr_vec[chosen_chr][-1:].upper()))\n",
    "\n",
    "\n",
    "#Save data\n",
    "if save_data:\n",
    "    topology_parameters = {'Parallel (%)':[P], 'Series (%)':[S], 'Cross (%)':[X], 'N contacts': [len(index)],\n",
    "                           'Fractal dimension':[Dim_fractal], 'r squared': [r2], 'Clustering': [clustering]}\n",
    "    topology_parameters= pd.DataFrame(topology_parameters)\n",
    "    \n",
    "    topology_parameters.to_csv('{}/Top_parameters_{}_{}.csv'.format(path_savedata, cell, chr_vec[chosen_chr]))\n",
    "    \n",
    "#Store topology matrix in TIF file\n",
    "if save_matrix:\n",
    "    PIL.Image.fromarray(mat.astype(float)).save(\"{}/top_matrix_{}_{}.tif\".format(path_savematrix,\n",
    "                                                                                 cell, chr_vec[chosen_chr]))"
   ]
  },
  {
   "cell_type": "code",
   "execution_count": 5,
   "metadata": {},
   "outputs": [],
   "source": [
    "plt.figure()\n",
    "matrix_plot(mat, 'chrom 1')\n",
    "#plt.savefig('mat.svg')"
   ]
  },
  {
   "cell_type": "markdown",
   "metadata": {},
   "source": [
    "# PROCESS ALL CHROMOSOMES IN A CELL"
   ]
  },
  {
   "cell_type": "markdown",
   "metadata": {},
   "source": [
    "Set path for printing results"
   ]
  },
  {
   "cell_type": "code",
   "execution_count": 9,
   "metadata": {},
   "outputs": [],
   "source": [
    "save_data= False\n",
    "save_matrix= False\n",
    "plot_matrix=True\n",
    "#path_savematrix='results/matrices/{}'.format(cell)\n",
    "path_savematrix='results/matrices'\n",
    "path_savedata='results/CT parameters'"
   ]
  },
  {
   "cell_type": "markdown",
   "metadata": {},
   "source": [
    "Loop over all chromosomes in a cell"
   ]
  },
  {
   "cell_type": "code",
   "execution_count": 10,
   "metadata": {},
   "outputs": [
    {
     "ename": "FileNotFoundError",
     "evalue": "[Errno 2] No such file or directory: 'data/pdbs/cell1/chromb.pdb'",
     "output_type": "error",
     "traceback": [
      "\u001b[1;31m---------------------------------------------------------------------------\u001b[0m",
      "\u001b[1;31mFileNotFoundError\u001b[0m                         Traceback (most recent call last)",
      "\u001b[1;32m~\\AppData\\Local\\Temp\\ipykernel_5840\\642667783.py\u001b[0m in \u001b[0;36m<module>\u001b[1;34m\u001b[0m\n\u001b[0;32m      8\u001b[0m \u001b[1;33m\u001b[0m\u001b[0m\n\u001b[0;32m      9\u001b[0m \u001b[1;32mfor\u001b[0m \u001b[0mt\u001b[0m \u001b[1;32min\u001b[0m \u001b[0mrange\u001b[0m\u001b[1;33m(\u001b[0m\u001b[0mn_all_chr\u001b[0m\u001b[1;33m)\u001b[0m\u001b[1;33m:\u001b[0m\u001b[1;33m\u001b[0m\u001b[1;33m\u001b[0m\u001b[0m\n\u001b[1;32m---> 10\u001b[1;33m     \u001b[0mn\u001b[0m\u001b[1;33m,\u001b[0m \u001b[0mcoord\u001b[0m\u001b[1;33m=\u001b[0m \u001b[0mselect_chrom\u001b[0m\u001b[1;33m(\u001b[0m\u001b[0mt\u001b[0m\u001b[1;33m,\u001b[0m \u001b[0mpath\u001b[0m\u001b[1;33m)\u001b[0m\u001b[1;33m\u001b[0m\u001b[1;33m\u001b[0m\u001b[0m\n\u001b[0m\u001b[0;32m     11\u001b[0m     \u001b[0mdist\u001b[0m\u001b[1;33m,\u001b[0m \u001b[0mn_contact\u001b[0m\u001b[1;33m,\u001b[0m \u001b[0mindex\u001b[0m\u001b[1;33m=\u001b[0m\u001b[0mgeom_distance\u001b[0m\u001b[1;33m(\u001b[0m\u001b[0mcoord\u001b[0m\u001b[1;33m,\u001b[0m \u001b[0mr_cutoff\u001b[0m\u001b[1;33m,\u001b[0m \u001b[0mneighbours\u001b[0m\u001b[1;33m)\u001b[0m\u001b[1;33m\u001b[0m\u001b[1;33m\u001b[0m\u001b[0m\n\u001b[0;32m     12\u001b[0m     \u001b[0mmat\u001b[0m\u001b[1;33m,\u001b[0m \u001b[0mstats\u001b[0m \u001b[1;33m=\u001b[0m \u001b[0mget_matrix\u001b[0m\u001b[1;33m(\u001b[0m\u001b[0mindex\u001b[0m\u001b[1;33m,\u001b[0m\u001b[0mchr_vec\u001b[0m\u001b[1;33m[\u001b[0m\u001b[1;36m0\u001b[0m\u001b[1;33m]\u001b[0m\u001b[1;33m)\u001b[0m\u001b[1;33m\u001b[0m\u001b[1;33m\u001b[0m\u001b[0m\n",
      "\u001b[1;32m~\\Documents\\Phd_project_reduced\\work directory jupyter lab\\topology\\genome_topology\\functions\\genome_topology.py\u001b[0m in \u001b[0;36mselect_chrom\u001b[1;34m(chrom, path)\u001b[0m\n\u001b[0;32m     37\u001b[0m     'chr o', 'chr p', 'chr q', 'chr r', 'chr s', 'chr t'])      \n\u001b[0;32m     38\u001b[0m     \u001b[0mID_chr\u001b[0m\u001b[1;33m=\u001b[0m\u001b[0mchr_vec\u001b[0m\u001b[1;33m[\u001b[0m\u001b[0mchrom\u001b[0m\u001b[1;33m]\u001b[0m\u001b[1;33m[\u001b[0m\u001b[1;36m4\u001b[0m\u001b[1;33m]\u001b[0m\u001b[1;33m\u001b[0m\u001b[1;33m\u001b[0m\u001b[0m\n\u001b[1;32m---> 39\u001b[1;33m     \u001b[0mpdb\u001b[0m\u001b[1;33m=\u001b[0m\u001b[0mopen_pdb\u001b[0m\u001b[1;33m(\u001b[0m\u001b[0mID_chr\u001b[0m\u001b[1;33m,\u001b[0m \u001b[0mpath\u001b[0m\u001b[1;33m)\u001b[0m\u001b[1;33m\u001b[0m\u001b[1;33m\u001b[0m\u001b[0m\n\u001b[0m\u001b[0;32m     40\u001b[0m     \u001b[0mcounter\u001b[0m\u001b[1;33m=\u001b[0m\u001b[1;36m0\u001b[0m\u001b[1;33m\u001b[0m\u001b[1;33m\u001b[0m\u001b[0m\n\u001b[0;32m     41\u001b[0m     \u001b[0mcoord\u001b[0m\u001b[1;33m=\u001b[0m\u001b[1;33m[\u001b[0m\u001b[1;33m]\u001b[0m\u001b[1;33m\u001b[0m\u001b[1;33m\u001b[0m\u001b[0m\n",
      "\u001b[1;32m~\\Documents\\Phd_project_reduced\\work directory jupyter lab\\topology\\genome_topology\\functions\\genome_topology.py\u001b[0m in \u001b[0;36mopen_pdb\u001b[1;34m(ID_chr, path)\u001b[0m\n\u001b[0;32m     19\u001b[0m     \u001b[0mfile_string\u001b[0m\u001b[1;33m=\u001b[0m \u001b[1;34m'{}/chrom{}.pdb'\u001b[0m\u001b[1;33m.\u001b[0m\u001b[0mformat\u001b[0m\u001b[1;33m(\u001b[0m\u001b[0mpath\u001b[0m\u001b[1;33m,\u001b[0m \u001b[0mID_chr\u001b[0m\u001b[1;33m)\u001b[0m\u001b[1;33m\u001b[0m\u001b[1;33m\u001b[0m\u001b[0m\n\u001b[0;32m     20\u001b[0m     \u001b[1;31m#print(file_string)\u001b[0m\u001b[1;33m\u001b[0m\u001b[1;33m\u001b[0m\u001b[1;33m\u001b[0m\u001b[0m\n\u001b[1;32m---> 21\u001b[1;33m     \u001b[0mpdb\u001b[0m \u001b[1;33m=\u001b[0m \u001b[0mopen\u001b[0m\u001b[1;33m(\u001b[0m\u001b[0mfile_string\u001b[0m\u001b[1;33m,\u001b[0m \u001b[1;34m\"r\"\u001b[0m\u001b[1;33m)\u001b[0m\u001b[1;33m\u001b[0m\u001b[1;33m\u001b[0m\u001b[0m\n\u001b[0m\u001b[0;32m     22\u001b[0m     \u001b[0mind\u001b[0m\u001b[1;33m=\u001b[0m\u001b[1;36m0\u001b[0m\u001b[1;33m\u001b[0m\u001b[1;33m\u001b[0m\u001b[0m\n\u001b[0;32m     23\u001b[0m     \u001b[1;32mfor\u001b[0m \u001b[0mline\u001b[0m \u001b[1;32min\u001b[0m \u001b[0mpdb\u001b[0m\u001b[1;33m:\u001b[0m\u001b[1;33m\u001b[0m\u001b[1;33m\u001b[0m\u001b[0m\n",
      "\u001b[1;31mFileNotFoundError\u001b[0m: [Errno 2] No such file or directory: 'data/pdbs/cell1/chromb.pdb'"
     ]
    }
   ],
   "source": [
    "P=np.zeros(n_all_chr)\n",
    "S=np.zeros(n_all_chr)\n",
    "X=np.zeros(n_all_chr)\n",
    "N_contacts=np.zeros(n_all_chr)\n",
    "Dim_fractal=np.zeros(n_all_chr)\n",
    "r2_fractalfit=np.zeros(n_all_chr)\n",
    "clustering=np.zeros(n_all_chr)\n",
    "\n",
    "for t in range(n_all_chr):\n",
    "    n, coord= select_chrom(t, path)\n",
    "    dist, n_contact, index=geom_distance(coord, r_cutoff, neighbours)\n",
    "    mat, stats = get_matrix(index,chr_vec[0])\n",
    "    P[t], S[t], X[t]=normalize_psc(stats, len(index))\n",
    "    N_contacts[t]=len(index)\n",
    "    Dim_fractal[t], r2_fractalfit[t]=fractal_dimension(mat, plot_fig=0)\n",
    "    G=make_graph(index)\n",
    "    clustering[t]= nx.average_clustering(G)\n",
    "    \n",
    "    if plot_matrix:\n",
    "        plt.figure(figsize=(7, 7))\n",
    "        plt.imshow(mat)\n",
    "        plt.title('CHROMOSOME {}'.format(chr_vec[t][-1:].upper()))\n",
    "    \n",
    "    if save_matrix:\n",
    "        PIL.Image.fromarray(mat.astype(float)).save(\"{}/top_matrix_{}_{}.tif\".format(path_savematrix,\n",
    "                                                                                 cell, chr_vec[t]))\n",
    "if save_data:\n",
    "    topology_parameters = {'Parallel (%)':P, 'Series (%)':S, 'Cross (%)':X, 'N contacts': N_contacts,\n",
    "                           'Fractal dimension':Dim_fractal, 'r squared': r2_fractalfit, \n",
    "                           'Clustering': clustering}\n",
    "    \n",
    "    topology_parameters= pd.DataFrame(topology_parameters)\n",
    "    \n",
    "    topology_parameters.to_csv('{}/Top_parameters_{}.csv'.format(path_savedata, cell))\n",
    "\n"
   ]
  },
  {
   "cell_type": "code",
   "execution_count": null,
   "metadata": {},
   "outputs": [],
   "source": []
  }
 ],
 "metadata": {
  "kernelspec": {
   "display_name": "Python 3 (ipykernel)",
   "language": "python",
   "name": "python3"
  },
  "language_info": {
   "codemirror_mode": {
    "name": "ipython",
    "version": 3
   },
   "file_extension": ".py",
   "mimetype": "text/x-python",
   "name": "python",
   "nbconvert_exporter": "python",
   "pygments_lexer": "ipython3",
   "version": "3.7.13"
  }
 },
 "nbformat": 4,
 "nbformat_minor": 4
}
